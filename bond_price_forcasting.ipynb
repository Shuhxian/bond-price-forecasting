{
  "nbformat": 4,
  "nbformat_minor": 0,
  "metadata": {
    "colab": {
      "name": "bond-price-forcasting.ipynb",
      "provenance": []
    },
    "kernelspec": {
      "name": "python3",
      "display_name": "Python 3"
    },
    "language_info": {
      "name": "python"
    }
  },
  "cells": [
    {
      "cell_type": "markdown",
      "metadata": {
        "id": "BIUUeYdhiE3c"
      },
      "source": [
        "# Load Dataset"
      ]
    },
    {
      "cell_type": "code",
      "metadata": {
        "colab": {
          "base_uri": "https://localhost:8080/"
        },
        "id": "dkz1oZeFh2Fd",
        "outputId": "a6434c86-fe7b-4e7e-e868-6a037452f3f0"
      },
      "source": [
        "from google.colab import drive\n",
        "drive.mount('/content/MyDrive')"
      ],
      "execution_count": 1,
      "outputs": [
        {
          "output_type": "stream",
          "text": [
            "Mounted at /content/MyDrive\n"
          ],
          "name": "stdout"
        }
      ]
    },
    {
      "cell_type": "code",
      "metadata": {
        "id": "5BdD03GLiCSM"
      },
      "source": [
        "!unzip -q \"/content/MyDrive/MyDrive/UMHackathon/UMHackathon 2021 Finance Dataset.zip\" -d \"dataset\" "
      ],
      "execution_count": 2,
      "outputs": []
    },
    {
      "cell_type": "code",
      "metadata": {
        "colab": {
          "base_uri": "https://localhost:8080/"
        },
        "id": "yz7R4i4MiEWi",
        "outputId": "9f0693ae-73de-40bb-e458-380f5e3b5502"
      },
      "source": [
        "import pandas as pd\n",
        "import glob\n",
        "import os\n",
        "import dateutil.parser\n",
        "import functools\n",
        "import matplotlib.pyplot as plt\n",
        "from statsmodels.graphics.tsaplots import plot_acf\n",
        "from sklearn.ensemble import RandomForestRegressor\n",
        "from sklearn.model_selection import train_test_split\n",
        "from sklearn.metrics import mean_squared_error\n",
        "import numpy as np\n",
        "import datetime\n",
        "import random"
      ],
      "execution_count": 3,
      "outputs": [
        {
          "output_type": "stream",
          "text": [
            "/usr/local/lib/python3.7/dist-packages/statsmodels/tools/_testing.py:19: FutureWarning: pandas.util.testing is deprecated. Use the functions in the public API at pandas.testing instead.\n",
            "  import pandas.util.testing as tm\n"
          ],
          "name": "stderr"
        }
      ]
    },
    {
      "cell_type": "markdown",
      "metadata": {
        "id": "XUFWa9XwiHPT"
      },
      "source": [
        "# Data Cleaning"
      ]
    },
    {
      "cell_type": "code",
      "metadata": {
        "colab": {
          "base_uri": "https://localhost:8080/"
        },
        "id": "OavPIgRjiIvq",
        "outputId": "63f0deab-1f56-4854-f4d0-836a5e7a7aef"
      },
      "source": [
        "dataset_dir = \"/content/dataset/BPAM Evaluated Prices Rated Range Prices (LT)\"\n",
        "\n",
        "# Merge both files (BPANERP & BPAMERS) together as a single pandas frame\n",
        "def read_all_csvs(dataset_dir):\n",
        "  sub_dirs = [f for f in os.listdir(dataset_dir) if not os.path.isfile(f)]\n",
        "  df_BPAMERP = pd.DataFrame()\n",
        "  df_BPAMERS = pd.DataFrame()\n",
        "  df_joined = pd.DataFrame()\n",
        "  for sub_dir in sub_dirs:\n",
        "    full_path = os.path.join(dataset_dir, sub_dir)\n",
        "    for file_name in os.listdir(full_path):\n",
        "      full_file_name = os.path.join(full_path, file_name)\n",
        "      if \"BPAMERP\" in file_name:\n",
        "        temp_df_BPAMERP =  pd.read_csv(full_file_name, parse_dates=True)\n",
        "        df_BPAMERP = pd.concat([df_BPAMERP, temp_df_BPAMERP])\n",
        "      elif \"BPAMERS\" in file_name:\n",
        "        temp_df_BPAMERS =  pd.read_csv(full_file_name, parse_dates=True)\n",
        "        df_BPAMERS = pd.concat([df_BPAMERS, temp_df_BPAMERS])\n",
        "    df_joined = pd.concat([df_joined, temp_df_BPAMERP.merge(temp_df_BPAMERS, on = ['STOCK CODE','ISIN CODE','STOCK NAME'], how = 'inner')])\n",
        "  return df_BPAMERP.reset_index(drop=True), df_BPAMERS.reset_index(drop=True), df_joined.sort_values(by=['VALUE DATE']).reset_index(drop=True)\n",
        "\n",
        "df_BPAMERP, df_BPAMERS, df_joined = read_all_csvs(dataset_dir)\n",
        "df_joined.info(memory_usage='deep')"
      ],
      "execution_count": 4,
      "outputs": [
        {
          "output_type": "stream",
          "text": [
            "<class 'pandas.core.frame.DataFrame'>\n",
            "RangeIndex: 34206 entries, 0 to 34205\n",
            "Data columns (total 49 columns):\n",
            " #   Column                                    Non-Null Count  Dtype  \n",
            "---  ------                                    --------------  -----  \n",
            " 0   STOCK CODE                                34206 non-null  object \n",
            " 1   ISIN CODE                                 34206 non-null  object \n",
            " 2   STOCK NAME                                34206 non-null  object \n",
            " 3   VALUE DATE                                34206 non-null  object \n",
            " 4   EVAL UPPER THRESHOLD YIELD                34206 non-null  float64\n",
            " 5   EVAL MID YIELD                            34206 non-null  float64\n",
            " 6   EVAL LOWER THRESHOLD YIELD                34206 non-null  float64\n",
            " 7   EVAL LOWER THRESHOLD PRICE                34206 non-null  float64\n",
            " 8   EVAL MID PRICE                            34206 non-null  float64\n",
            " 9   EVAL UPPER THRESHOLD PRICE                34206 non-null  float64\n",
            " 10  MODIFIED DURATION                         34206 non-null  float64\n",
            " 11  CONVEXITY                                 34206 non-null  float64\n",
            " 12  EVAL UPPER THRESHOLD YIELD CHANGE         34206 non-null  float64\n",
            " 13  EVAL MID YIELD CHANGE                     34206 non-null  float64\n",
            " 14  EVAL LOWER THRESHOLD YIELD CHANGE         34206 non-null  float64\n",
            " 15  EVAL LOWER THRESHOLD PRICE CHANGE         34206 non-null  float64\n",
            " 16  EVAL MID PRICE CHANGE                     34206 non-null  float64\n",
            " 17  EVAL UPPER THRESHOLD PRICE CHANGE         34206 non-null  float64\n",
            " 18  COMPOSITE LIQUIDITY SCORE (T-1)           34206 non-null  float64\n",
            " 19  FACILITY CODE                             34206 non-null  object \n",
            " 20  ISSUER NAME                               34206 non-null  object \n",
            " 21  PRINCIPLE                                 34206 non-null  object \n",
            " 22  BOND TYPE                                 34206 non-null  object \n",
            " 23  BOND CLASS                                34206 non-null  object \n",
            " 24  RATING                                    34206 non-null  object \n",
            " 25  RATING AGENCY                             27212 non-null  object \n",
            " 26  ISSUE DATE                                34206 non-null  object \n",
            " 27  MATURITY DATE                             34206 non-null  object \n",
            " 28  EXPECTED MATURITY DATE                    2547 non-null   object \n",
            " 29  DAY COUNT BASIS                           34206 non-null  object \n",
            " 30  COUPON FREQUENCY                          33916 non-null  float64\n",
            " 31  FIRST PAYMENT DATE                        32283 non-null  object \n",
            " 32  PREVIOUS PAYMENT DATE                     31600 non-null  object \n",
            " 33  PREVIOUS COUPON RATE                      31600 non-null  float64\n",
            " 34  NEXT PAYMENT DATE                         33888 non-null  object \n",
            " 35  NEXT COUPON RATE                          33888 non-null  float64\n",
            " 36  FACILITY AMOUNT/FACILITY LIMIT(MYR MIL)   34206 non-null  int64  \n",
            " 37  FACILITY OUTSTANDING AMOUNT(MYR MIL)      34206 non-null  int64  \n",
            " 38  BOND ISSUE AMOUNT(MYR MIL)                34206 non-null  int64  \n",
            " 39  BOND CURRENT OUTSTANDING AMOUNT(MYR MIL)  34206 non-null  int64  \n",
            " 40  REMAINING TENURE                          34206 non-null  object \n",
            " 41  ISSUER FACILITY LIMIT(MYR MIL)            34206 non-null  int64  \n",
            " 42  ISSUER OUTSTANDING AMOUNT(MYR MIL)        34206 non-null  int64  \n",
            " 43  ISLAMIC CONCEPT                           28144 non-null  object \n",
            " 44  SECTOR                                    34206 non-null  object \n",
            " 45  RATING EFFECTIVE DATE                     27212 non-null  object \n",
            " 46  CALLABLE/PUTTABLE                         34206 non-null  object \n",
            " 47  CONVERTIBLE/EXCHANGABLE                   34206 non-null  object \n",
            " 48  RATING ACTION                             27212 non-null  object \n",
            "dtypes: float64(18), int64(6), object(25)\n",
            "memory usage: 59.6 MB\n"
          ],
          "name": "stdout"
        }
      ]
    },
    {
      "cell_type": "code",
      "metadata": {
        "colab": {
          "base_uri": "https://localhost:8080/"
        },
        "id": "_l7jdQBHiU86",
        "outputId": "7dc09975-12f9-44bc-b004-ae6cd7674038"
      },
      "source": [
        "# parse datetime data type\n",
        "date_columns = [column for column in df_joined.columns if \"DATE\" in column]\n",
        "for date_column in date_columns:\n",
        "  df_joined[date_column] = pd.to_datetime(df_joined[date_column], infer_datetime_format=True)  \n",
        "\n",
        "# parse bool data type\n",
        "d = {'Y': True, 'N': False}\n",
        "df_joined[\"CALLABLE/PUTTABLE\"] = df_joined[\"CALLABLE/PUTTABLE\"].map(d)\n",
        "df_joined[\"CONVERTIBLE/EXCHANGABLE\"] = df_joined[\"CONVERTIBLE/EXCHANGABLE\"].map(d)\n",
        "\n",
        "# parse category data type\n",
        "obj_columns = df_joined.select_dtypes(include='object').columns\n",
        "for obj_column in obj_columns:\n",
        "  df_joined[obj_column] = df_joined[obj_column].astype('category')\n",
        "\n",
        "# show the memory usage\n",
        "df_joined.info(memory_usage='deep')"
      ],
      "execution_count": 5,
      "outputs": [
        {
          "output_type": "stream",
          "text": [
            "<class 'pandas.core.frame.DataFrame'>\n",
            "RangeIndex: 34206 entries, 0 to 34205\n",
            "Data columns (total 49 columns):\n",
            " #   Column                                    Non-Null Count  Dtype         \n",
            "---  ------                                    --------------  -----         \n",
            " 0   STOCK CODE                                34206 non-null  category      \n",
            " 1   ISIN CODE                                 34206 non-null  category      \n",
            " 2   STOCK NAME                                34206 non-null  category      \n",
            " 3   VALUE DATE                                34206 non-null  datetime64[ns]\n",
            " 4   EVAL UPPER THRESHOLD YIELD                34206 non-null  float64       \n",
            " 5   EVAL MID YIELD                            34206 non-null  float64       \n",
            " 6   EVAL LOWER THRESHOLD YIELD                34206 non-null  float64       \n",
            " 7   EVAL LOWER THRESHOLD PRICE                34206 non-null  float64       \n",
            " 8   EVAL MID PRICE                            34206 non-null  float64       \n",
            " 9   EVAL UPPER THRESHOLD PRICE                34206 non-null  float64       \n",
            " 10  MODIFIED DURATION                         34206 non-null  float64       \n",
            " 11  CONVEXITY                                 34206 non-null  float64       \n",
            " 12  EVAL UPPER THRESHOLD YIELD CHANGE         34206 non-null  float64       \n",
            " 13  EVAL MID YIELD CHANGE                     34206 non-null  float64       \n",
            " 14  EVAL LOWER THRESHOLD YIELD CHANGE         34206 non-null  float64       \n",
            " 15  EVAL LOWER THRESHOLD PRICE CHANGE         34206 non-null  float64       \n",
            " 16  EVAL MID PRICE CHANGE                     34206 non-null  float64       \n",
            " 17  EVAL UPPER THRESHOLD PRICE CHANGE         34206 non-null  float64       \n",
            " 18  COMPOSITE LIQUIDITY SCORE (T-1)           34206 non-null  float64       \n",
            " 19  FACILITY CODE                             34206 non-null  category      \n",
            " 20  ISSUER NAME                               34206 non-null  category      \n",
            " 21  PRINCIPLE                                 34206 non-null  category      \n",
            " 22  BOND TYPE                                 34206 non-null  category      \n",
            " 23  BOND CLASS                                34206 non-null  category      \n",
            " 24  RATING                                    34206 non-null  category      \n",
            " 25  RATING AGENCY                             27212 non-null  category      \n",
            " 26  ISSUE DATE                                34206 non-null  datetime64[ns]\n",
            " 27  MATURITY DATE                             34206 non-null  datetime64[ns]\n",
            " 28  EXPECTED MATURITY DATE                    2547 non-null   datetime64[ns]\n",
            " 29  DAY COUNT BASIS                           34206 non-null  category      \n",
            " 30  COUPON FREQUENCY                          33916 non-null  float64       \n",
            " 31  FIRST PAYMENT DATE                        32283 non-null  datetime64[ns]\n",
            " 32  PREVIOUS PAYMENT DATE                     31600 non-null  datetime64[ns]\n",
            " 33  PREVIOUS COUPON RATE                      31600 non-null  float64       \n",
            " 34  NEXT PAYMENT DATE                         33888 non-null  datetime64[ns]\n",
            " 35  NEXT COUPON RATE                          33888 non-null  float64       \n",
            " 36  FACILITY AMOUNT/FACILITY LIMIT(MYR MIL)   34206 non-null  int64         \n",
            " 37  FACILITY OUTSTANDING AMOUNT(MYR MIL)      34206 non-null  int64         \n",
            " 38  BOND ISSUE AMOUNT(MYR MIL)                34206 non-null  int64         \n",
            " 39  BOND CURRENT OUTSTANDING AMOUNT(MYR MIL)  34206 non-null  int64         \n",
            " 40  REMAINING TENURE                          34206 non-null  category      \n",
            " 41  ISSUER FACILITY LIMIT(MYR MIL)            34206 non-null  int64         \n",
            " 42  ISSUER OUTSTANDING AMOUNT(MYR MIL)        34206 non-null  int64         \n",
            " 43  ISLAMIC CONCEPT                           28144 non-null  category      \n",
            " 44  SECTOR                                    34206 non-null  category      \n",
            " 45  RATING EFFECTIVE DATE                     27212 non-null  datetime64[ns]\n",
            " 46  CALLABLE/PUTTABLE                         34206 non-null  bool          \n",
            " 47  CONVERTIBLE/EXCHANGABLE                   34206 non-null  bool          \n",
            " 48  RATING ACTION                             27212 non-null  category      \n",
            "dtypes: bool(2), category(15), datetime64[ns](8), float64(18), int64(6)\n",
            "memory usage: 9.9 MB\n"
          ],
          "name": "stdout"
        }
      ]
    },
    {
      "cell_type": "code",
      "metadata": {
        "colab": {
          "base_uri": "https://localhost:8080/"
        },
        "id": "Va7fs-EDiWji",
        "outputId": "9eea530f-3d08-43b8-8de0-ace6dfa5f5b7"
      },
      "source": [
        "# check null value\n",
        "df_joined.isnull().sum().sort_values()"
      ],
      "execution_count": 6,
      "outputs": [
        {
          "output_type": "execute_result",
          "data": {
            "text/plain": [
              "STOCK CODE                                      0\n",
              "PRINCIPLE                                       0\n",
              "BOND TYPE                                       0\n",
              "BOND CLASS                                      0\n",
              "CONVERTIBLE/EXCHANGABLE                         0\n",
              "ISSUE DATE                                      0\n",
              "MATURITY DATE                                   0\n",
              "DAY COUNT BASIS                                 0\n",
              "ISSUER NAME                                     0\n",
              "FACILITY AMOUNT/FACILITY LIMIT(MYR MIL)         0\n",
              "BOND ISSUE AMOUNT(MYR MIL)                      0\n",
              "BOND CURRENT OUTSTANDING AMOUNT(MYR MIL)        0\n",
              "REMAINING TENURE                                0\n",
              "ISSUER FACILITY LIMIT(MYR MIL)                  0\n",
              "ISSUER OUTSTANDING AMOUNT(MYR MIL)              0\n",
              "SECTOR                                          0\n",
              "CALLABLE/PUTTABLE                               0\n",
              "FACILITY OUTSTANDING AMOUNT(MYR MIL)            0\n",
              "FACILITY CODE                                   0\n",
              "RATING                                          0\n",
              "EVAL UPPER THRESHOLD PRICE CHANGE               0\n",
              "EVAL UPPER THRESHOLD PRICE                      0\n",
              "EVAL LOWER THRESHOLD YIELD                      0\n",
              "COMPOSITE LIQUIDITY SCORE (T-1)                 0\n",
              "EVAL MID YIELD                                  0\n",
              "EVAL UPPER THRESHOLD YIELD                      0\n",
              "VALUE DATE                                      0\n",
              "EVAL MID PRICE                                  0\n",
              "MODIFIED DURATION                               0\n",
              "CONVEXITY                                       0\n",
              "EVAL UPPER THRESHOLD YIELD CHANGE               0\n",
              "ISIN CODE                                       0\n",
              "EVAL MID YIELD CHANGE                           0\n",
              "EVAL LOWER THRESHOLD YIELD CHANGE               0\n",
              "EVAL LOWER THRESHOLD PRICE CHANGE               0\n",
              "EVAL MID PRICE CHANGE                           0\n",
              "STOCK NAME                                      0\n",
              "EVAL LOWER THRESHOLD PRICE                      0\n",
              "COUPON FREQUENCY                              290\n",
              "NEXT PAYMENT DATE                             318\n",
              "NEXT COUPON RATE                              318\n",
              "FIRST PAYMENT DATE                           1923\n",
              "PREVIOUS COUPON RATE                         2606\n",
              "PREVIOUS PAYMENT DATE                        2606\n",
              "ISLAMIC CONCEPT                              6062\n",
              "RATING EFFECTIVE DATE                        6994\n",
              "RATING AGENCY                                6994\n",
              "RATING ACTION                                6994\n",
              "EXPECTED MATURITY DATE                      31659\n",
              "dtype: int64"
            ]
          },
          "metadata": {},
          "execution_count": 6
        }
      ]
    },
    {
      "cell_type": "code",
      "metadata": {
        "id": "lnsnZdVBiZ4z"
      },
      "source": [
        "# impute null value\n",
        "df_joined[\"COUPON FREQUENCY\"].fillna(0, inplace = True)\n",
        "df_joined[\"NEXT COUPON RATE\"].fillna(0, inplace = True)\n",
        "df_joined[\"PREVIOUS COUPON RATE\"].fillna(0, inplace = True)"
      ],
      "execution_count": 7,
      "outputs": []
    },
    {
      "cell_type": "code",
      "metadata": {
        "colab": {
          "base_uri": "https://localhost:8080/"
        },
        "id": "Rl4yg31Lidiz",
        "outputId": "d7183cfe-92a6-4192-d758-a8043121a388"
      },
      "source": [
        "# check null value\n",
        "df_joined.isnull().sum().sort_values()"
      ],
      "execution_count": 8,
      "outputs": [
        {
          "output_type": "execute_result",
          "data": {
            "text/plain": [
              "STOCK CODE                                      0\n",
              "BOND CLASS                                      0\n",
              "CONVERTIBLE/EXCHANGABLE                         0\n",
              "ISSUE DATE                                      0\n",
              "MATURITY DATE                                   0\n",
              "DAY COUNT BASIS                                 0\n",
              "COUPON FREQUENCY                                0\n",
              "PREVIOUS COUPON RATE                            0\n",
              "NEXT COUPON RATE                                0\n",
              "FACILITY AMOUNT/FACILITY LIMIT(MYR MIL)         0\n",
              "FACILITY OUTSTANDING AMOUNT(MYR MIL)            0\n",
              "BOND ISSUE AMOUNT(MYR MIL)                      0\n",
              "BOND CURRENT OUTSTANDING AMOUNT(MYR MIL)        0\n",
              "REMAINING TENURE                                0\n",
              "ISSUER FACILITY LIMIT(MYR MIL)                  0\n",
              "ISSUER OUTSTANDING AMOUNT(MYR MIL)              0\n",
              "SECTOR                                          0\n",
              "CALLABLE/PUTTABLE                               0\n",
              "BOND TYPE                                       0\n",
              "PRINCIPLE                                       0\n",
              "RATING                                          0\n",
              "FACILITY CODE                                   0\n",
              "EVAL LOWER THRESHOLD PRICE                      0\n",
              "EVAL MID PRICE                                  0\n",
              "EVAL UPPER THRESHOLD PRICE                      0\n",
              "MODIFIED DURATION                               0\n",
              "ISSUER NAME                                     0\n",
              "CONVEXITY                                       0\n",
              "EVAL UPPER THRESHOLD YIELD                      0\n",
              "VALUE DATE                                      0\n",
              "EVAL UPPER THRESHOLD YIELD CHANGE               0\n",
              "EVAL MID YIELD CHANGE                           0\n",
              "STOCK NAME                                      0\n",
              "EVAL LOWER THRESHOLD YIELD CHANGE               0\n",
              "EVAL LOWER THRESHOLD PRICE CHANGE               0\n",
              "ISIN CODE                                       0\n",
              "EVAL MID PRICE CHANGE                           0\n",
              "EVAL UPPER THRESHOLD PRICE CHANGE               0\n",
              "COMPOSITE LIQUIDITY SCORE (T-1)                 0\n",
              "EVAL LOWER THRESHOLD YIELD                      0\n",
              "EVAL MID YIELD                                  0\n",
              "NEXT PAYMENT DATE                             318\n",
              "FIRST PAYMENT DATE                           1923\n",
              "PREVIOUS PAYMENT DATE                        2606\n",
              "ISLAMIC CONCEPT                              6062\n",
              "RATING EFFECTIVE DATE                        6994\n",
              "RATING AGENCY                                6994\n",
              "RATING ACTION                                6994\n",
              "EXPECTED MATURITY DATE                      31659\n",
              "dtype: int64"
            ]
          },
          "metadata": {},
          "execution_count": 8
        }
      ]
    },
    {
      "cell_type": "markdown",
      "metadata": {
        "id": "ebZojIbTimy6"
      },
      "source": [
        "# Features Engineering"
      ]
    },
    {
      "cell_type": "code",
      "metadata": {
        "colab": {
          "base_uri": "https://localhost:8080/"
        },
        "id": "ShthsTeAihpS",
        "outputId": "9975d905-ac2e-4cfe-8bc1-dff40da279f8"
      },
      "source": [
        "# calculate maturity duration\n",
        "df_joined[\"MATURITY DURATION\"] = df_joined[\"MATURITY DATE\"] - df_joined[\"ISSUE DATE\"] \n",
        "df_joined[\"MATURITY DURATION\"]"
      ],
      "execution_count": 9,
      "outputs": [
        {
          "output_type": "execute_result",
          "data": {
            "text/plain": [
              "0        3653 days\n",
              "1        9131 days\n",
              "2        9129 days\n",
              "3        9129 days\n",
              "4        9130 days\n",
              "           ...    \n",
              "34201    9130 days\n",
              "34202    9129 days\n",
              "34203    9129 days\n",
              "34204   10956 days\n",
              "34205    1277 days\n",
              "Name: MATURITY DURATION, Length: 34206, dtype: timedelta64[ns]"
            ]
          },
          "metadata": {},
          "execution_count": 9
        }
      ]
    },
    {
      "cell_type": "code",
      "metadata": {
        "colab": {
          "base_uri": "https://localhost:8080/"
        },
        "id": "zxVPrWnwiqyC",
        "outputId": "82f12628-8ff6-45c4-835c-f351eaca85df"
      },
      "source": [
        "# calculate accured interest\n",
        "# assume ACTACT and ACTBOTH are the same\n",
        "def cal_accured_interest(bond):\n",
        "  prev_date = bond[\"PREVIOUS PAYMENT DATE\"] if bond[\"PREVIOUS PAYMENT DATE\"] is not pd.NaT else bond[\"ISSUE DATE\"]\n",
        "  num_of_days_since_last_coupon_payment = float((bond[\"VALUE DATE\"] - prev_date).days)\n",
        "  if bond[\"DAY COUNT BASIS\"] in [\"ACTACT\",\"ACTBOTH\"]:\n",
        "    payment_period = float((bond[\"NEXT PAYMENT DATE\"] - prev_date).days)\n",
        "    if bond[\"COUPON FREQUENCY\"] == 0:\n",
        "      return 0\n",
        "    accured_interest = 100 * (bond[\"NEXT COUPON RATE\"] / 100) / bond[\"COUPON FREQUENCY\"] * num_of_days_since_last_coupon_payment / payment_period\n",
        "    return accured_interest\n",
        "  elif bond[\"DAY COUNT BASIS\"] in [\"ACT365\"]:\n",
        "    accured_interest = 100 * (bond[\"NEXT COUPON RATE\"] / 100) * num_of_days_since_last_coupon_payment / 365\n",
        "    return accured_interest\n",
        "\n",
        "df_joined[\"ACCRUED INTEREST\"] = df_joined.apply(cal_accured_interest, axis=1)\n",
        "df_joined[\"ACCRUED INTEREST\"]"
      ],
      "execution_count": 12,
      "outputs": [
        {
          "output_type": "execute_result",
          "data": {
            "text/plain": [
              "0        1.660548\n",
              "1        0.125753\n",
              "2        1.823562\n",
              "3        1.930685\n",
              "4        0.574247\n",
              "           ...   \n",
              "34201    1.048000\n",
              "34202    2.402630\n",
              "34203    2.293699\n",
              "34204    2.462466\n",
              "34205    0.849863\n",
              "Name: ACCRUED INTEREST, Length: 34206, dtype: float64"
            ]
          },
          "metadata": {},
          "execution_count": 12
        }
      ]
    },
    {
      "cell_type": "code",
      "metadata": {
        "colab": {
          "base_uri": "https://localhost:8080/"
        },
        "id": "GdVSu6z3ixhL",
        "outputId": "8098accb-de8a-449b-d3c9-f5998ec32b9c"
      },
      "source": [
        "# set opr movement\n",
        "OPR_movement = { \n",
        "    \"7 Jul 2020\": 1.75,\n",
        "    \"5 May 2020\": 2,\n",
        "    \"3 Mar 2020\": 2.5,    \n",
        "    \"22 Jan 2020\": 2.75,\n",
        "    \"7 May 2019\": 3\n",
        "}\n",
        "\n",
        "def assign_opr(value_date):\n",
        "  for date, opr in OPR_movement.items(): \n",
        "    date = dateutil.parser.parse(date) \n",
        "    if value_date >= date:\n",
        "      return opr\n",
        "\n",
        "df_joined[\"OPR movement\"] = df_joined[\"VALUE DATE\"].apply(assign_opr)\n",
        "df_joined[\"OPR movement\"]"
      ],
      "execution_count": 13,
      "outputs": [
        {
          "output_type": "execute_result",
          "data": {
            "text/plain": [
              "0        2.5\n",
              "1        2.5\n",
              "2        2.5\n",
              "3        2.5\n",
              "4        2.5\n",
              "        ... \n",
              "34201    2.5\n",
              "34202    2.5\n",
              "34203    2.5\n",
              "34204    2.5\n",
              "34205    2.5\n",
              "Name: OPR movement, Length: 34206, dtype: float64"
            ]
          },
          "metadata": {},
          "execution_count": 13
        }
      ]
    }
  ]
}